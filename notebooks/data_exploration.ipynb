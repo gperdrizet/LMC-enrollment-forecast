{
 "cells": [
  {
   "cell_type": "code",
   "execution_count": 1,
   "id": "6a041f1a-cc8a-4111-ad20-2bbb89df9fe7",
   "metadata": {},
   "outputs": [
    {
     "ename": "ModuleNotFoundError",
     "evalue": "No module named 'matplotlib'",
     "output_type": "error",
     "traceback": [
      "\u001b[0;31m---------------------------------------------------------------------------\u001b[0m",
      "\u001b[0;31mModuleNotFoundError\u001b[0m                       Traceback (most recent call last)",
      "\u001b[0;32m<ipython-input-1-5077a6bd2840>\u001b[0m in \u001b[0;36m<module>\u001b[0;34m\u001b[0m\n\u001b[1;32m      1\u001b[0m \u001b[0;32mimport\u001b[0m \u001b[0msys\u001b[0m\u001b[0;34m\u001b[0m\u001b[0;34m\u001b[0m\u001b[0m\n\u001b[1;32m      2\u001b[0m \u001b[0;32mimport\u001b[0m \u001b[0mpandas\u001b[0m \u001b[0;32mas\u001b[0m \u001b[0mpd\u001b[0m\u001b[0;34m\u001b[0m\u001b[0;34m\u001b[0m\u001b[0m\n\u001b[0;32m----> 3\u001b[0;31m \u001b[0;32mimport\u001b[0m \u001b[0mmatplotlib\u001b[0m\u001b[0;34m.\u001b[0m\u001b[0mpyplot\u001b[0m \u001b[0;32mas\u001b[0m \u001b[0mplt\u001b[0m\u001b[0;34m\u001b[0m\u001b[0;34m\u001b[0m\u001b[0m\n\u001b[0m\u001b[1;32m      4\u001b[0m \u001b[0;34m\u001b[0m\u001b[0m\n\u001b[1;32m      5\u001b[0m \u001b[0;31m# Add parent directory to path to allow import of config.py\u001b[0m\u001b[0;34m\u001b[0m\u001b[0;34m\u001b[0m\u001b[0;34m\u001b[0m\u001b[0m\n",
      "\u001b[0;31mModuleNotFoundError\u001b[0m: No module named 'matplotlib'"
     ]
    }
   ],
   "source": [
    "import sys\n",
    "import pandas as pd\n",
    "import matplotlib.pyplot as plt\n",
    "\n",
    "# Add parent directory to path to allow import of config.py\n",
    "sys.path.append(\"..\")\n",
    "\n",
    "import config as conf"
   ]
  },
  {
   "cell_type": "markdown",
   "id": "382f6f84-2c42-4c06-8320-ecd5db076a5a",
   "metadata": {},
   "source": [
    "First step will be to load, parse, format and clean the raw datafiles we exported from the LMC enrollment tableau (link). We have two files, one where all metrics are aggregated college wide, and a second where the data is split by department."
   ]
  },
  {
   "cell_type": "code",
   "execution_count": null,
   "id": "f6bd3b13-0e0f-45d9-bf84-c8ed30b881d8",
   "metadata": {},
   "outputs": [],
   "source": [
    "enrollment_by_semester = pd.read_csv(f'{conf.DATA_PATH}{conf.ENROLLMENT_BY_SEMESTER_DATAFILE}')\n",
    "enrollment_by_department = pd.read_csv(f'{conf.DATA_PATH}{conf.ENROLLMENT_BY_DEPARTMENT_DATAFILE}')"
   ]
  },
  {
   "cell_type": "code",
   "execution_count": null,
   "id": "f2650c87-ce1b-4bc9-9866-d6f56663b03e",
   "metadata": {},
   "outputs": [],
   "source": [
    "enrollment_by_semester.head()"
   ]
  },
  {
   "cell_type": "code",
   "execution_count": null,
   "id": "f5164b18-ba38-442e-aa42-3e12cb26f2f1",
   "metadata": {},
   "outputs": [],
   "source": [
    "enrollment_by_department.head()"
   ]
  },
  {
   "cell_type": "markdown",
   "id": "6d129e1d-1be8-4943-bc0e-da14d118a0e3",
   "metadata": {},
   "source": [
    "Looks like there are some garb are some garbage columns we need to get rid of. Also, the data appears to be in R-style long format so we should reformat it to wide so we can handle it more like a canonical Pandas dataframe."
   ]
  },
  {
   "cell_type": "code",
   "execution_count": null,
   "id": "5664a313-7efb-499d-8391-1effc02964b0",
   "metadata": {},
   "outputs": [],
   "source": [
    "# Drop columns we don't need\n",
    "enrollment_by_semester.drop(['Level 2', 'Level 3', 'NegPos_Number', 'List of Values'], axis=1, inplace=True)\n",
    "enrollment_by_department.drop(['Level 3', 'NegPos_Number', 'List of Values'], axis=1, inplace=True)"
   ]
  },
  {
   "cell_type": "code",
   "execution_count": null,
   "id": "d114ed92-2163-4485-bf10-a580e3c8189a",
   "metadata": {},
   "outputs": [],
   "source": [
    "# Reformat dataframe from wide to long\n",
    "enrollment_by_semester = enrollment_by_semester.pivot_table(index='Level 1', columns='Measure Names', values='Measure Values').reset_index()\n",
    "enrollment_by_department = enrollment_by_department.pivot_table(index=['Level 1','Level 2'], columns='Measure Names', values='Measure Values').reset_index()"
   ]
  },
  {
   "cell_type": "code",
   "execution_count": null,
   "id": "f1e9aece-d673-44a0-a76a-ce1402df52d9",
   "metadata": {},
   "outputs": [],
   "source": [
    "# Split 'Level 1' column string into year and semester, add back to dataframe as seperate columns\n",
    "\n",
    "term = enrollment_by_semester['Level 1'].str.extract('(?P<year>\\d{4})(?P<semester>[a-zA-Z]{2})', expand=True)\n",
    "enrollment_by_semester = pd.concat([enrollment_by_semester, term], axis=1)\n",
    "\n",
    "term = enrollment_by_department['Level 1'].str.extract('(?P<year>\\d{4})(?P<semester>[a-zA-Z]{2})', expand=True)\n",
    "enrollment_by_department = pd.concat([enrollment_by_department, term], axis=1)"
   ]
  },
  {
   "cell_type": "code",
   "execution_count": null,
   "id": "6630b1c4-1ccf-4982-8517-2bdeca2a15ea",
   "metadata": {},
   "outputs": [],
   "source": [
    "enrollment_by_semester.describe()"
   ]
  },
  {
   "cell_type": "code",
   "execution_count": null,
   "id": "d5bb0f33-8c8b-4ff2-80e6-f86d0aa0ab4d",
   "metadata": {},
   "outputs": [],
   "source": [
    "enrollment_by_department.describe()"
   ]
  },
  {
   "cell_type": "code",
   "execution_count": null,
   "id": "2da80470-af49-4e8b-bf3e-2437e7153b33",
   "metadata": {},
   "outputs": [],
   "source": [
    "plt.matshow(enrollment_by_semester.corr())\n",
    "plt.show()"
   ]
  },
  {
   "cell_type": "code",
   "execution_count": null,
   "id": "ff4f1ecf-9034-48b5-9758-d5f73af7ebf7",
   "metadata": {},
   "outputs": [],
   "source": []
  }
 ],
 "metadata": {
  "kernelspec": {
   "display_name": "Python 3",
   "language": "python",
   "name": "python3"
  },
  "language_info": {
   "codemirror_mode": {
    "name": "ipython",
    "version": 3
   },
   "file_extension": ".py",
   "mimetype": "text/x-python",
   "name": "python",
   "nbconvert_exporter": "python",
   "pygments_lexer": "ipython3",
   "version": "3.8.5"
  }
 },
 "nbformat": 4,
 "nbformat_minor": 5
}
