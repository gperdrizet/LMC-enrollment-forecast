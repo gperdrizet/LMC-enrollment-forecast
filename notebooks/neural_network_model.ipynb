{
 "cells": [
  {
   "cell_type": "code",
   "execution_count": 1,
   "id": "d85c20b0-8823-415b-b110-1c12db52a7a6",
   "metadata": {},
   "outputs": [],
   "source": [
    "import sys\n",
    "import numpy as np\n",
    "import pandas as pd\n",
    "import tensorflow as tf\n",
    "import seaborn as sns\n",
    "import matplotlib.pyplot as plt\n",
    "from matplotlib.ticker import FormatStrFormatter\n",
    "\n",
    "from tensorflow import keras\n",
    "from tensorflow.keras import layers\n",
    "from tensorflow.keras.layers.experimental import preprocessing\n",
    "\n",
    "# Add parent directory to path to allow import of config.py\n",
    "sys.path.append(\"..\")\n",
    "\n",
    "import config as conf"
   ]
  },
  {
   "cell_type": "code",
   "execution_count": 2,
   "id": "7fe87141-5b9d-49c5-af15-e812f78556d3",
   "metadata": {},
   "outputs": [
    {
     "name": "stdout",
     "output_type": "stream",
     "text": [
      "<class 'pandas.core.frame.DataFrame'>\n",
      "RangeIndex: 14 entries, 0 to 13\n",
      "Data columns (total 24 columns):\n",
      " #   Column                           Non-Null Count  Dtype  \n",
      "---  ------                           --------------  -----  \n",
      " 0   Census Enrollment                14 non-null     float64\n",
      " 1   Census Fill Rate                 14 non-null     float64\n",
      " 2   Count of Migrated Data           14 non-null     float64\n",
      " 3   Current Enrollment               14 non-null     float64\n",
      " 4   Current Fill Rate                14 non-null     float64\n",
      " 5   Enrollment Capacity              14 non-null     float64\n",
      " 6   Ftef                             14 non-null     float64\n",
      " 7   Ftes                             14 non-null     float64\n",
      " 8   Ftes/Ftef                        14 non-null     float64\n",
      " 9   Number Retained                  14 non-null     float64\n",
      " 10  Number Successful                14 non-null     float64\n",
      " 11  Retention Rate                   14 non-null     float64\n",
      " 12  Sec. Count                       14 non-null     float64\n",
      " 13  Success Rate                     14 non-null     float64\n",
      " 14  Wsch/Ftef                        14 non-null     float64\n",
      " 15  Next Semester Census Enrollment  14 non-null     float64\n",
      " 16  year_2016                        14 non-null     int64  \n",
      " 17  year_2017                        14 non-null     int64  \n",
      " 18  year_2018                        14 non-null     int64  \n",
      " 19  year_2019                        14 non-null     int64  \n",
      " 20  year_2020                        14 non-null     int64  \n",
      " 21  semester_FA                      14 non-null     int64  \n",
      " 22  semester_SP                      14 non-null     int64  \n",
      " 23  semester_SU                      14 non-null     int64  \n",
      "dtypes: float64(16), int64(8)\n",
      "memory usage: 2.8 KB\n"
     ]
    }
   ],
   "source": [
    "data = pd.read_csv(f'{conf.DATA_PATH}{conf.FORMATTED_DATAFILE}')\n",
    "data.info()"
   ]
  },
  {
   "cell_type": "code",
   "execution_count": 3,
   "id": "85eb8ef0-d8ad-43e2-b8b5-5413be371d1b",
   "metadata": {},
   "outputs": [],
   "source": [
    "# Split data randomly into training and testing sets\n",
    "training_data = data.sample(frac=0.8)\n",
    "test_data = data.drop(training_data.index)\n",
    "\n",
    "# Seperate dependent and independent variable\n",
    "training_features = training_data.copy()\n",
    "test_features = test_data.copy()\n",
    "\n",
    "training_labels = training_features.pop('Next Semester Census Enrollment')\n",
    "test_labels = test_features.pop('Next Semester Census Enrollment')"
   ]
  },
  {
   "cell_type": "code",
   "execution_count": 4,
   "id": "195144fa-02e8-4879-8ee0-63291d47d9ba",
   "metadata": {},
   "outputs": [],
   "source": [
    "# Setup normalization layer for features\n",
    "normalizer = preprocessing.Normalization()\n",
    "normalizer.adapt(np.array(training_features))"
   ]
  },
  {
   "cell_type": "code",
   "execution_count": 4,
   "id": "650f3d40-ccf2-433c-9d99-5e5e8c4657cb",
   "metadata": {},
   "outputs": [],
   "source": [
    "# Build deep neural network model\n",
    "def build_and_compile_model(\n",
    "    normalizer,\n",
    "    units, \n",
    "    learning_rate\n",
    "):\n",
    "    '''Takes pre-adapted normalizer and some hyperparameters, returns\n",
    "    compiled model'''\n",
    "    \n",
    "    model = keras.Sequential([\n",
    "        norm,\n",
    "        layers.Dense(units, activation='relu'),\n",
    "        layers.Dense(units, activation='relu'),\n",
    "        layers.Dense(1)\n",
    "    ])\n",
    "\n",
    "    model.compile(\n",
    "        loss='mean_absolute_error',\n",
    "        optimizer=tf.keras.optimizers.Adam(learning_rate)\n",
    "    )\n",
    "    \n",
    "    return model"
   ]
  },
  {
   "cell_type": "code",
   "execution_count": 6,
   "id": "c17b8cc7-3d81-4abf-b859-c900c67b7c3b",
   "metadata": {},
   "outputs": [
    {
     "name": "stdout",
     "output_type": "stream",
     "text": [
      "Model: \"sequential\"\n",
      "_________________________________________________________________\n",
      "Layer (type)                 Output Shape              Param #   \n",
      "=================================================================\n",
      "normalization (Normalization (None, 23)                47        \n",
      "_________________________________________________________________\n",
      "dense (Dense)                (None, 64)                1536      \n",
      "_________________________________________________________________\n",
      "dense_1 (Dense)              (None, 64)                4160      \n",
      "_________________________________________________________________\n",
      "dense_2 (Dense)              (None, 1)                 65        \n",
      "=================================================================\n",
      "Total params: 5,808\n",
      "Trainable params: 5,761\n",
      "Non-trainable params: 47\n",
      "_________________________________________________________________\n"
     ]
    }
   ],
   "source": [
    "# Build the model and check its architecture\n",
    "dnn_model = build_and_compile_model(\n",
    "    normalizer,\n",
    "    64,\n",
    "    0.02\n",
    ")\n",
    "\n",
    "dnn_model.summary()"
   ]
  },
  {
   "cell_type": "code",
   "execution_count": 7,
   "id": "7d473a58-b843-4004-b644-c0b3e62a6133",
   "metadata": {},
   "outputs": [
    {
     "name": "stdout",
     "output_type": "stream",
     "text": [
      "CPU times: user 7.77 s, sys: 604 ms, total: 8.37 s\n",
      "Wall time: 11.9 s\n"
     ]
    }
   ],
   "source": [
    "%%time\n",
    "history = dnn_model.fit(\n",
    "    training_features, \n",
    "    training_labels,\n",
    "    verbose=0,\n",
    "    epochs=500\n",
    ")"
   ]
  },
  {
   "cell_type": "code",
   "execution_count": 8,
   "id": "b573b5bb-c378-478c-9274-d3c1a8c28495",
   "metadata": {},
   "outputs": [
    {
     "data": {
      "image/png": "[encoded data removed]",
      "text/plain": [
       "<Figure size 432x288 with 1 Axes>"
      ]
     },
     "metadata": {
      "needs_background": "light"
     },
     "output_type": "display_data"
    }
   ],
   "source": [
    "def plot_loss(history):\n",
    "    '''Takes training history object from keras model.fit\n",
    "    and plots loss'''\n",
    "    plt.plot(history.history['loss'], label='loss')\n",
    "    #plt.ylim([0, 10])\n",
    "    plt.xlabel('Epoch')\n",
    "    plt.ylabel('Error')\n",
    "    #plt.legend()\n",
    "    plt.grid(True)\n",
    "\n",
    "plot_loss(history)"
   ]
  },
  {
   "cell_type": "code",
   "execution_count": 9,
   "id": "5c3773de-3eff-4414-a224-90c8f5782337",
   "metadata": {},
   "outputs": [
    {
     "name": "stdout",
     "output_type": "stream",
     "text": [
      "1/1 [==============================] - 0s 226ms/step - loss: 2251.8630\n"
     ]
    },
    {
     "data": {
      "text/plain": [
       "2251.863037109375"
      ]
     },
     "execution_count": 9,
     "metadata": {},
     "output_type": "execute_result"
    }
   ],
   "source": [
    "dnn_model.evaluate(test_features, test_labels, verbose=1)"
   ]
  },
  {
   "cell_type": "code",
   "execution_count": 10,
   "id": "9bddcac2-ad8a-4453-a6a9-9b5ac6742f51",
   "metadata": {},
   "outputs": [],
   "source": [
    "X = data.drop('Next Semester Census Enrollment', axis=1)\n",
    "y = data['Next Semester Census Enrollment']\n",
    "predicted_enrollment = dnn_model.predict(X)"
   ]
  },
  {
   "cell_type": "code",
   "execution_count": 11,
   "id": "cfc6ce28-669e-4bdf-beed-87b7b17da6a1",
   "metadata": {},
   "outputs": [
    {
     "data": {
      "image/png": "[encoded data removed]",
      "text/plain": [
       "<Figure size 576x576 with 1 Axes>"
      ]
     },
     "metadata": {},
     "output_type": "display_data"
    }
   ],
   "source": [
    "# Grab actual enrollment numbers to compare with\n",
    "actual_enrollment = y\n",
    "\n",
    "# Plot actual enrollment vs predicted enrollment\n",
    "sns.set(rc={'figure.figsize':(8,8)})\n",
    "ax = sns.regplot(y=predicted_enrollment, x=actual_enrollment, fit_reg=True, scatter_kws={'s':60})\n",
    "ax.tick_params(labelsize=12)\n",
    "ax.set_title('Predicted vs actual enrollment', fontsize=18)\n",
    "ax.set_xlabel('Actual enrollment', fontsize=14)\n",
    "ax.set_ylabel('Predicted enrollment', fontsize=15)\n",
    "#ax.set_aspect('equal', 'box')\n",
    "ax.set_xlim(4000, 27000)\n",
    "ax.set_ylim(4000, 27000)\n",
    "ax.yaxis.set_major_formatter(FormatStrFormatter('%.0f'))"
   ]
  },
  {
   "cell_type": "markdown",
   "id": "875a8c48-fe15-46d1-a95c-9029983c4c1a",
   "metadata": {},
   "source": [
    "Looks pretty good! Still very worried about overfitting with such a small dataset. To augment this approach I am going to try something a little unconventional - bootstrap aggragation! The idea is, this dataset is so small and our network is so simple, training completes on the order of seconds. We will use the speed of training to our advantage and train multiple times with different randomly chosen subsets of the data. Then we will use the ensamble of trained networks to make predictions. It will make more sense when you see it (I hope)...\n",
    "\n",
    "First thing is to encapsulate the major opperations above into functions so we can easily build and train models in a loop."
   ]
  },
  {
   "cell_type": "code",
   "execution_count": 2,
   "id": "c60ffa2c-a2ab-444a-9a6e-e583e898e40e",
   "metadata": {},
   "outputs": [],
   "source": [
    "def create_datasets(data, training_data_fraction, label_column_name):\n",
    "    '''Takes master data as pandas dataframe splits into train and\n",
    "    test features and labels, returns a dict of dataframes'''\n",
    "    \n",
    "    # Split data randomly into training and testing sets\n",
    "    training_data = data.sample(frac=training_data_fraction)\n",
    "    test_data = data.drop(training_data.index)\n",
    "\n",
    "    # Seperate dependent and independent variable\n",
    "    training_features = training_data.copy()\n",
    "    test_features = test_data.copy()\n",
    "\n",
    "    training_labels = training_features.pop(label_column_name)\n",
    "    test_labels = test_features.pop(label_column_name)\n",
    "    \n",
    "    dataset = {}\n",
    "    dataset['training_features'] = training_features\n",
    "    dataset['test_features'] = test_features\n",
    "    dataset['training_labels'] = training_labels\n",
    "    dataset['test_labels'] = test_labels\n",
    "    \n",
    "    return dataset"
   ]
  },
  {
   "cell_type": "code",
   "execution_count": 3,
   "id": "0b6ffca5-b5f9-46e7-9d24-17c9d0ac8fc2",
   "metadata": {},
   "outputs": [],
   "source": [
    "def create_normalization_layer(training_features):\n",
    "    '''Takes a pandas dataframe, returns an adapted tf.keras\n",
    "    normalization layer'''\n",
    "    \n",
    "    normalizer = preprocessing.Normalization()\n",
    "    normalizer.adapt(np.array(training_features))\n",
    "    \n",
    "    return normalizer"
   ]
  },
  {
   "cell_type": "code",
   "execution_count": null,
   "id": "c9e91ce2-814b-42ed-94bf-9cc131b18a23",
   "metadata": {},
   "outputs": [],
   "source": [
    "# First make some empty lists to hold our history objects \n",
    "# and trained models\n",
    "\n",
    "num_models = 10\n",
    "\n",
    "trained_DNN_models = []\n",
    "training_history_objects = []\n",
    "test_set_scores = []\n",
    "\n",
    "# Outer training loop\n",
    "for i in range(num_models):\n",
    "    # Make dataset\n",
    "    dataset = create_datasets(data)\n",
    "    \n",
    "    # Adapt normalization layer\n",
    "    normalizer = create_normalization_layer(dataset['training_features'])\n",
    "    \n",
    "    # Build model\n",
    "    dnn_model = build_and_compile_model(\n",
    "        normalizer,\n",
    "        64,\n",
    "        0.02\n",
    "    )\n",
    "    \n",
    "    # Train model\n",
    "    history = dnn_model.fit(\n",
    "        dataset['training_features'], \n",
    "        dataset['training_labels'],\n",
    "        verbose=0,\n",
    "        epochs=500\n",
    "    )\n",
    "    \n",
    "    # Store results\n",
    "    trained_DNN_models.append(dnn_model)\n",
    "    training_history_objects.append(history)\n",
    "    \n",
    "    # Evaluate model\n",
    "    test_score = dnn_model.evaluate(dataset['test_features'], dataset['test_labels'])\n",
    "    test_set_scores.append(test_score)\n"
   ]
  }
 ],
 "metadata": {
  "kernelspec": {
   "display_name": "Python 3",
   "language": "python",
   "name": "python3"
  },
  "language_info": {
   "codemirror_mode": {
    "name": "ipython",
    "version": 3
   },
   "file_extension": ".py",
   "mimetype": "text/x-python",
   "name": "python",
   "nbconvert_exporter": "python",
   "pygments_lexer": "ipython3",
   "version": "3.8.5"
  }
 },
 "nbformat": 4,
 "nbformat_minor": 5
}
