{
 "cells": [
  {
   "cell_type": "code",
   "execution_count": 1,
   "id": "13c7d830-fd04-40e8-8809-e6b24eef29ea",
   "metadata": {},
   "outputs": [],
   "source": [
    "import sys\n",
    "import pickle\n",
    "import numpy as np\n",
    "import pandas as pd\n",
    "import seaborn as sns\n",
    "import matplotlib.pyplot as plt\n",
    "\n",
    "from sklearn.linear_model import LinearRegression\n",
    "from sklearn.metrics import mean_absolute_error\n",
    "\n",
    "# Add parent directory to path to allow import of config.py\n",
    "sys.path.append(\"..\")\n",
    "\n",
    "import config as conf"
   ]
  },
  {
   "cell_type": "markdown",
   "id": "18859894-4bcd-437d-8b43-d51d6e62ddc9",
   "metadata": {},
   "source": [
    "For our baseline or 'naive' model, we will use a simple linear regression model on enrolment as a function of time. This model is not expected to perform well, but it will give us a baseline for the simplest possible model to compare other models to."
   ]
  },
  {
   "cell_type": "code",
   "execution_count": 2,
   "id": "6aaedf83-1a60-4c4a-b5c5-174ed6d9a6af",
   "metadata": {},
   "outputs": [
    {
     "data": {
      "text/html": [
       "<div>\n",
       "<style scoped>\n",
       "    .dataframe tbody tr th:only-of-type {\n",
       "        vertical-align: middle;\n",
       "    }\n",
       "\n",
       "    .dataframe tbody tr th {\n",
       "        vertical-align: top;\n",
       "    }\n",
       "\n",
       "    .dataframe thead th {\n",
       "        text-align: right;\n",
       "    }\n",
       "</style>\n",
       "<table border=\"1\" class=\"dataframe\">\n",
       "  <thead>\n",
       "    <tr style=\"text-align: right;\">\n",
       "      <th></th>\n",
       "      <th>Census Enrollment</th>\n",
       "      <th>Census Fill Rate</th>\n",
       "      <th>Count of Migrated Data</th>\n",
       "      <th>Current Enrollment</th>\n",
       "      <th>Current Fill Rate</th>\n",
       "      <th>Enrollment Capacity</th>\n",
       "      <th>Ftef</th>\n",
       "      <th>Ftes</th>\n",
       "      <th>Ftes/Ftef</th>\n",
       "      <th>Number Retained</th>\n",
       "      <th>Number Successful</th>\n",
       "      <th>Retention Rate</th>\n",
       "      <th>Sec. Count</th>\n",
       "      <th>Success Rate</th>\n",
       "      <th>Wsch/Ftef</th>\n",
       "      <th>year</th>\n",
       "      <th>semester</th>\n",
       "    </tr>\n",
       "  </thead>\n",
       "  <tbody>\n",
       "    <tr>\n",
       "      <th>0</th>\n",
       "      <td>23035.0</td>\n",
       "      <td>0.659009</td>\n",
       "      <td>873.0</td>\n",
       "      <td>23035.0</td>\n",
       "      <td>0.659009</td>\n",
       "      <td>34954.0</td>\n",
       "      <td>222.960</td>\n",
       "      <td>3388.44</td>\n",
       "      <td>15.197524</td>\n",
       "      <td>19886.000000</td>\n",
       "      <td>16784.0</td>\n",
       "      <td>0.858265</td>\n",
       "      <td>873.0</td>\n",
       "      <td>0.724385</td>\n",
       "      <td>456.131145</td>\n",
       "      <td>2016</td>\n",
       "      <td>FA</td>\n",
       "    </tr>\n",
       "    <tr>\n",
       "      <th>1</th>\n",
       "      <td>4940.0</td>\n",
       "      <td>0.455551</td>\n",
       "      <td>212.0</td>\n",
       "      <td>4939.0</td>\n",
       "      <td>0.455459</td>\n",
       "      <td>10844.0</td>\n",
       "      <td>51.831</td>\n",
       "      <td>756.62</td>\n",
       "      <td>14.597828</td>\n",
       "      <td>4619.000000</td>\n",
       "      <td>4143.0</td>\n",
       "      <td>0.906753</td>\n",
       "      <td>212.0</td>\n",
       "      <td>0.813310</td>\n",
       "      <td>439.640370</td>\n",
       "      <td>2016</td>\n",
       "      <td>SU</td>\n",
       "    </tr>\n",
       "    <tr>\n",
       "      <th>2</th>\n",
       "      <td>24250.0</td>\n",
       "      <td>0.663693</td>\n",
       "      <td>917.0</td>\n",
       "      <td>24250.0</td>\n",
       "      <td>0.663693</td>\n",
       "      <td>36538.0</td>\n",
       "      <td>221.658</td>\n",
       "      <td>3453.37</td>\n",
       "      <td>15.579722</td>\n",
       "      <td>21096.708858</td>\n",
       "      <td>17768.0</td>\n",
       "      <td>0.854429</td>\n",
       "      <td>917.0</td>\n",
       "      <td>0.719673</td>\n",
       "      <td>467.801749</td>\n",
       "      <td>2017</td>\n",
       "      <td>FA</td>\n",
       "    </tr>\n",
       "    <tr>\n",
       "      <th>3</th>\n",
       "      <td>22573.0</td>\n",
       "      <td>0.606361</td>\n",
       "      <td>900.0</td>\n",
       "      <td>22573.0</td>\n",
       "      <td>0.606361</td>\n",
       "      <td>37227.0</td>\n",
       "      <td>220.622</td>\n",
       "      <td>3277.43</td>\n",
       "      <td>14.855409</td>\n",
       "      <td>20203.715960</td>\n",
       "      <td>17130.0</td>\n",
       "      <td>0.857980</td>\n",
       "      <td>900.0</td>\n",
       "      <td>0.727512</td>\n",
       "      <td>445.499542</td>\n",
       "      <td>2017</td>\n",
       "      <td>SP</td>\n",
       "    </tr>\n",
       "    <tr>\n",
       "      <th>4</th>\n",
       "      <td>4697.0</td>\n",
       "      <td>0.445171</td>\n",
       "      <td>204.0</td>\n",
       "      <td>4697.0</td>\n",
       "      <td>0.445171</td>\n",
       "      <td>10551.0</td>\n",
       "      <td>48.731</td>\n",
       "      <td>702.63</td>\n",
       "      <td>14.418543</td>\n",
       "      <td>4335.000000</td>\n",
       "      <td>3859.0</td>\n",
       "      <td>0.905578</td>\n",
       "      <td>204.0</td>\n",
       "      <td>0.806142</td>\n",
       "      <td>433.994788</td>\n",
       "      <td>2017</td>\n",
       "      <td>SU</td>\n",
       "    </tr>\n",
       "    <tr>\n",
       "      <th>5</th>\n",
       "      <td>25753.0</td>\n",
       "      <td>0.682108</td>\n",
       "      <td>948.0</td>\n",
       "      <td>25753.0</td>\n",
       "      <td>0.682108</td>\n",
       "      <td>37755.0</td>\n",
       "      <td>228.736</td>\n",
       "      <td>3736.85</td>\n",
       "      <td>16.336956</td>\n",
       "      <td>22022.695227</td>\n",
       "      <td>18642.0</td>\n",
       "      <td>0.847614</td>\n",
       "      <td>948.0</td>\n",
       "      <td>0.717552</td>\n",
       "      <td>526.296691</td>\n",
       "      <td>2018</td>\n",
       "      <td>FA</td>\n",
       "    </tr>\n",
       "    <tr>\n",
       "      <th>6</th>\n",
       "      <td>22781.0</td>\n",
       "      <td>0.607008</td>\n",
       "      <td>907.0</td>\n",
       "      <td>22790.0</td>\n",
       "      <td>0.607248</td>\n",
       "      <td>37530.0</td>\n",
       "      <td>215.558</td>\n",
       "      <td>3231.18</td>\n",
       "      <td>14.989840</td>\n",
       "      <td>20609.854932</td>\n",
       "      <td>17533.0</td>\n",
       "      <td>0.854932</td>\n",
       "      <td>907.0</td>\n",
       "      <td>0.727329</td>\n",
       "      <td>449.767580</td>\n",
       "      <td>2018</td>\n",
       "      <td>SP</td>\n",
       "    </tr>\n",
       "    <tr>\n",
       "      <th>7</th>\n",
       "      <td>4705.0</td>\n",
       "      <td>0.443910</td>\n",
       "      <td>206.0</td>\n",
       "      <td>4705.0</td>\n",
       "      <td>0.443910</td>\n",
       "      <td>10599.0</td>\n",
       "      <td>45.488</td>\n",
       "      <td>609.09</td>\n",
       "      <td>13.390125</td>\n",
       "      <td>4470.000000</td>\n",
       "      <td>3977.0</td>\n",
       "      <td>0.899035</td>\n",
       "      <td>206.0</td>\n",
       "      <td>0.799879</td>\n",
       "      <td>416.373549</td>\n",
       "      <td>2018</td>\n",
       "      <td>SU</td>\n",
       "    </tr>\n",
       "    <tr>\n",
       "      <th>8</th>\n",
       "      <td>26206.0</td>\n",
       "      <td>0.685070</td>\n",
       "      <td>965.0</td>\n",
       "      <td>26206.0</td>\n",
       "      <td>0.685070</td>\n",
       "      <td>38253.0</td>\n",
       "      <td>230.480</td>\n",
       "      <td>3796.20</td>\n",
       "      <td>16.470843</td>\n",
       "      <td>22746.407080</td>\n",
       "      <td>18812.0</td>\n",
       "      <td>0.867257</td>\n",
       "      <td>965.0</td>\n",
       "      <td>0.717577</td>\n",
       "      <td>534.423811</td>\n",
       "      <td>2019</td>\n",
       "      <td>FA</td>\n",
       "    </tr>\n",
       "    <tr>\n",
       "      <th>9</th>\n",
       "      <td>23752.0</td>\n",
       "      <td>0.622742</td>\n",
       "      <td>925.0</td>\n",
       "      <td>23752.0</td>\n",
       "      <td>0.622742</td>\n",
       "      <td>38141.0</td>\n",
       "      <td>220.660</td>\n",
       "      <td>3366.87</td>\n",
       "      <td>15.258180</td>\n",
       "      <td>20754.737671</td>\n",
       "      <td>17625.0</td>\n",
       "      <td>0.868835</td>\n",
       "      <td>925.0</td>\n",
       "      <td>0.737880</td>\n",
       "      <td>498.663102</td>\n",
       "      <td>2019</td>\n",
       "      <td>SP</td>\n",
       "    </tr>\n",
       "    <tr>\n",
       "      <th>10</th>\n",
       "      <td>4848.0</td>\n",
       "      <td>0.439250</td>\n",
       "      <td>219.0</td>\n",
       "      <td>4848.0</td>\n",
       "      <td>0.439250</td>\n",
       "      <td>11037.0</td>\n",
       "      <td>45.796</td>\n",
       "      <td>590.72</td>\n",
       "      <td>12.898943</td>\n",
       "      <td>4460.909462</td>\n",
       "      <td>3929.0</td>\n",
       "      <td>0.909462</td>\n",
       "      <td>219.0</td>\n",
       "      <td>0.801183</td>\n",
       "      <td>439.208665</td>\n",
       "      <td>2019</td>\n",
       "      <td>SU</td>\n",
       "    </tr>\n",
       "    <tr>\n",
       "      <th>11</th>\n",
       "      <td>24001.0</td>\n",
       "      <td>0.692670</td>\n",
       "      <td>883.0</td>\n",
       "      <td>24001.0</td>\n",
       "      <td>0.692670</td>\n",
       "      <td>34650.0</td>\n",
       "      <td>208.530</td>\n",
       "      <td>3487.85</td>\n",
       "      <td>16.725891</td>\n",
       "      <td>20566.080130</td>\n",
       "      <td>16424.0</td>\n",
       "      <td>0.889844</td>\n",
       "      <td>883.0</td>\n",
       "      <td>0.739354</td>\n",
       "      <td>537.534168</td>\n",
       "      <td>2020</td>\n",
       "      <td>FA</td>\n",
       "    </tr>\n",
       "    <tr>\n",
       "      <th>12</th>\n",
       "      <td>23325.0</td>\n",
       "      <td>0.600541</td>\n",
       "      <td>941.0</td>\n",
       "      <td>23325.0</td>\n",
       "      <td>0.600541</td>\n",
       "      <td>38840.0</td>\n",
       "      <td>219.525</td>\n",
       "      <td>3330.54</td>\n",
       "      <td>15.171575</td>\n",
       "      <td>18329.841478</td>\n",
       "      <td>16314.0</td>\n",
       "      <td>0.774391</td>\n",
       "      <td>941.0</td>\n",
       "      <td>0.689635</td>\n",
       "      <td>495.278442</td>\n",
       "      <td>2020</td>\n",
       "      <td>SP</td>\n",
       "    </tr>\n",
       "    <tr>\n",
       "      <th>13</th>\n",
       "      <td>5349.0</td>\n",
       "      <td>0.535865</td>\n",
       "      <td>189.0</td>\n",
       "      <td>5349.0</td>\n",
       "      <td>0.535865</td>\n",
       "      <td>9982.0</td>\n",
       "      <td>41.263</td>\n",
       "      <td>644.49</td>\n",
       "      <td>15.619078</td>\n",
       "      <td>4578.295889</td>\n",
       "      <td>4059.0</td>\n",
       "      <td>0.882648</td>\n",
       "      <td>189.0</td>\n",
       "      <td>0.783439</td>\n",
       "      <td>528.124470</td>\n",
       "      <td>2020</td>\n",
       "      <td>SU</td>\n",
       "    </tr>\n",
       "    <tr>\n",
       "      <th>14</th>\n",
       "      <td>20723.0</td>\n",
       "      <td>0.626792</td>\n",
       "      <td>826.0</td>\n",
       "      <td>20723.0</td>\n",
       "      <td>0.626792</td>\n",
       "      <td>33062.0</td>\n",
       "      <td>198.815</td>\n",
       "      <td>2945.49</td>\n",
       "      <td>14.815230</td>\n",
       "      <td>610.677400</td>\n",
       "      <td>420.0</td>\n",
       "      <td>0.286300</td>\n",
       "      <td>826.0</td>\n",
       "      <td>0.245902</td>\n",
       "      <td>495.470664</td>\n",
       "      <td>2021</td>\n",
       "      <td>SP</td>\n",
       "    </tr>\n",
       "  </tbody>\n",
       "</table>\n",
       "</div>"
      ],
      "text/plain": [
       "    Census Enrollment  Census Fill Rate  Count of Migrated Data  \\\n",
       "0             23035.0          0.659009                   873.0   \n",
       "1              4940.0          0.455551                   212.0   \n",
       "2             24250.0          0.663693                   917.0   \n",
       "3             22573.0          0.606361                   900.0   \n",
       "4              4697.0          0.445171                   204.0   \n",
       "5             25753.0          0.682108                   948.0   \n",
       "6             22781.0          0.607008                   907.0   \n",
       "7              4705.0          0.443910                   206.0   \n",
       "8             26206.0          0.685070                   965.0   \n",
       "9             23752.0          0.622742                   925.0   \n",
       "10             4848.0          0.439250                   219.0   \n",
       "11            24001.0          0.692670                   883.0   \n",
       "12            23325.0          0.600541                   941.0   \n",
       "13             5349.0          0.535865                   189.0   \n",
       "14            20723.0          0.626792                   826.0   \n",
       "\n",
       "    Current Enrollment  Current Fill Rate  Enrollment Capacity     Ftef  \\\n",
       "0              23035.0           0.659009              34954.0  222.960   \n",
       "1               4939.0           0.455459              10844.0   51.831   \n",
       "2              24250.0           0.663693              36538.0  221.658   \n",
       "3              22573.0           0.606361              37227.0  220.622   \n",
       "4               4697.0           0.445171              10551.0   48.731   \n",
       "5              25753.0           0.682108              37755.0  228.736   \n",
       "6              22790.0           0.607248              37530.0  215.558   \n",
       "7               4705.0           0.443910              10599.0   45.488   \n",
       "8              26206.0           0.685070              38253.0  230.480   \n",
       "9              23752.0           0.622742              38141.0  220.660   \n",
       "10              4848.0           0.439250              11037.0   45.796   \n",
       "11             24001.0           0.692670              34650.0  208.530   \n",
       "12             23325.0           0.600541              38840.0  219.525   \n",
       "13              5349.0           0.535865               9982.0   41.263   \n",
       "14             20723.0           0.626792              33062.0  198.815   \n",
       "\n",
       "       Ftes  Ftes/Ftef  Number Retained  Number Successful  Retention Rate  \\\n",
       "0   3388.44  15.197524     19886.000000            16784.0        0.858265   \n",
       "1    756.62  14.597828      4619.000000             4143.0        0.906753   \n",
       "2   3453.37  15.579722     21096.708858            17768.0        0.854429   \n",
       "3   3277.43  14.855409     20203.715960            17130.0        0.857980   \n",
       "4    702.63  14.418543      4335.000000             3859.0        0.905578   \n",
       "5   3736.85  16.336956     22022.695227            18642.0        0.847614   \n",
       "6   3231.18  14.989840     20609.854932            17533.0        0.854932   \n",
       "7    609.09  13.390125      4470.000000             3977.0        0.899035   \n",
       "8   3796.20  16.470843     22746.407080            18812.0        0.867257   \n",
       "9   3366.87  15.258180     20754.737671            17625.0        0.868835   \n",
       "10   590.72  12.898943      4460.909462             3929.0        0.909462   \n",
       "11  3487.85  16.725891     20566.080130            16424.0        0.889844   \n",
       "12  3330.54  15.171575     18329.841478            16314.0        0.774391   \n",
       "13   644.49  15.619078      4578.295889             4059.0        0.882648   \n",
       "14  2945.49  14.815230       610.677400              420.0        0.286300   \n",
       "\n",
       "    Sec. Count  Success Rate   Wsch/Ftef  year semester  \n",
       "0        873.0      0.724385  456.131145  2016       FA  \n",
       "1        212.0      0.813310  439.640370  2016       SU  \n",
       "2        917.0      0.719673  467.801749  2017       FA  \n",
       "3        900.0      0.727512  445.499542  2017       SP  \n",
       "4        204.0      0.806142  433.994788  2017       SU  \n",
       "5        948.0      0.717552  526.296691  2018       FA  \n",
       "6        907.0      0.727329  449.767580  2018       SP  \n",
       "7        206.0      0.799879  416.373549  2018       SU  \n",
       "8        965.0      0.717577  534.423811  2019       FA  \n",
       "9        925.0      0.737880  498.663102  2019       SP  \n",
       "10       219.0      0.801183  439.208665  2019       SU  \n",
       "11       883.0      0.739354  537.534168  2020       FA  \n",
       "12       941.0      0.689635  495.278442  2020       SP  \n",
       "13       189.0      0.783439  528.124470  2020       SU  \n",
       "14       826.0      0.245902  495.470664  2021       SP  "
      ]
     },
     "execution_count": 2,
     "metadata": {},
     "output_type": "execute_result"
    }
   ],
   "source": [
    "data = pd.read_csv(f'{conf.DATA_PATH}{conf.CLEANED_DATAFILE}')\n",
    "data"
   ]
  },
  {
   "cell_type": "markdown",
   "id": "291c3138-0b95-4384-89c6-d53db7a3bdd0",
   "metadata": {},
   "source": [
    "To do a simple x, y linear fit, we first need to do a little data formatting. The goal is to make a timeseries where the date is x and enrollment is y."
   ]
  },
  {
   "cell_type": "code",
   "execution_count": 3,
   "id": "9046eaa5-591f-4ba1-9886-c4677a7ad505",
   "metadata": {},
   "outputs": [],
   "source": [
    "def decode_semester_strings(semesters):\n",
    "    '''Takes a list of semester string identifiers and translates\n",
    "    them into month and day of census. Returns two lists with month\n",
    "    and day numbers'''\n",
    "    \n",
    "    census_months = []\n",
    "    census_days = []\n",
    "\n",
    "    for semester in list(semesters):\n",
    "\n",
    "        if semester == 'FA':\n",
    "            census_months.append(9)\n",
    "            census_days.append(8)\n",
    "\n",
    "        elif semester == 'SP':\n",
    "            census_months.append(2)\n",
    "            census_days.append(8)\n",
    "\n",
    "        elif semester == 'SU':\n",
    "            census_months.append(5)\n",
    "            census_days.append(14)\n",
    "\n",
    "    return census_months, census_days\n",
    "\n",
    "def make_xy_data(data):\n",
    "    '''Wapper function takes formatted data and recovers two lists - one of census enrollment\n",
    "    numbers (returned as y) and the census data (returned as x)'''\n",
    "\n",
    "    census_months, census_days = decode_semester_strings(data['semester'])\n",
    "\n",
    "    x = pd.to_datetime(dict(year=data['year'], month=census_months, day=census_days))\n",
    "    y = data['Census Enrollment']\n",
    "    \n",
    "    return x, y"
   ]
  },
  {
   "cell_type": "code",
   "execution_count": 4,
   "id": "495415e3-1f48-4f9d-a268-ac9b87e420e1",
   "metadata": {},
   "outputs": [],
   "source": [
    "# Get census data and corresponding enrollment number from\n",
    "# each row in the data\n",
    "\n",
    "x, y = make_xy_data(data)"
   ]
  },
  {
   "cell_type": "code",
   "execution_count": 5,
   "id": "0c648ba9-c2af-459d-9d6f-aa4dff794961",
   "metadata": {},
   "outputs": [
    {
     "data": {
      "image/png": "[encoded data removed]",
      "text/plain": [
       "<Figure size 432x288 with 1 Axes>"
      ]
     },
     "metadata": {
      "needs_background": "light"
     },
     "output_type": "display_data"
    }
   ],
   "source": [
    "# Plot enrollment numbers over time\n",
    "\n",
    "fig = plt.figure()\n",
    "plt.scatter(x, y, color='black')\n",
    "plt.axis([None, None, 0, 30000])\n",
    "#plt.xticks(rotation = 45)\n",
    "fig.suptitle('Census Enrollment', fontsize=20)\n",
    "plt.xlabel('Date', fontsize=18)\n",
    "plt.ylabel('Enrollment', fontsize=16)\n",
    "plt.show()"
   ]
  },
  {
   "cell_type": "markdown",
   "id": "5449c205-56cc-4970-8b7c-2621fccbd4da",
   "metadata": {},
   "source": [
    "The orignal plan was to fit this data with one line and call that the minimal model. But looking at the data, I think that is going a bit to far in terms of oversimplifying on purpose to make the other models look good. I think that what we have to do is use two linear fits, one to summer semesters and the other to fall and spring. Even better would be to split into three sets and treat each one individualy, but lets start with just separating summer from fall and spring."
   ]
  },
  {
   "cell_type": "code",
   "execution_count": 6,
   "id": "c31075f0-a61f-4308-9ab8-fe0c87f36275",
   "metadata": {},
   "outputs": [],
   "source": [
    "# Split data into summer and fall-spring sets, then remake x, y data for each\n",
    "\n",
    "SU_data = data[data['semester'] == \"SU\"]\n",
    "SU_x, SU_y = make_xy_data(SU_data)\n",
    "\n",
    "FA_SP_data = data[data['semester'] != \"SU\" ]\n",
    "FA_SP_x, FA_SP_y = make_xy_data(FA_SP_data)\n",
    "\n",
    "census_enrollment_by_date = {\n",
    "    'SU_dates': SU_x,\n",
    "    'SU_enrollment': SU_y,\n",
    "    'FA-SP_dates': FA_SP_x,\n",
    "    'FA-SP_enrollment': FA_SP_y\n",
    "}\n",
    "\n",
    "# Save for later use\n",
    "with open(f'{conf.DATA_PATH}{conf.CENSUS_ENROLLMENT_BY_DATE}', 'wb') as file:\n",
    "    pickle.dump(census_enrollment_by_date, file)"
   ]
  },
  {
   "cell_type": "code",
   "execution_count": 7,
   "id": "705e6fb3-0f09-4c07-82fc-e9239485d333",
   "metadata": {},
   "outputs": [
    {
     "data": {
      "image/png": "[encoded data removed]",
      "text/plain": [
       "<Figure size 432x288 with 1 Axes>"
      ]
     },
     "metadata": {
      "needs_background": "light"
     },
     "output_type": "display_data"
    }
   ],
   "source": [
    "# Replot census enrollment over time as two series\n",
    "\n",
    "fig = plt.figure()\n",
    "plt.scatter(SU_x, SU_y, c='green', label='Summer')\n",
    "plt.scatter(FA_SP_x, FA_SP_y, c='black', label='Fall, Spring')\n",
    "plt.legend(loc='upper left')\n",
    "plt.axis([None, None, 0, 30000])\n",
    "#plt.xticks(rotation = 45)\n",
    "fig.suptitle('Census Enrollment', fontsize=20)\n",
    "plt.xlabel('Date', fontsize=18)\n",
    "plt.ylabel('Enrollment', fontsize=16)\n",
    "plt.show()"
   ]
  },
  {
   "cell_type": "code",
   "execution_count": 8,
   "id": "8ea046e6-1e36-4d1b-b925-3048cd7ee872",
   "metadata": {},
   "outputs": [],
   "source": [
    "# Fit linear models to the summer and fall-spring data, then make\n",
    "# predictions from the respective x vectors\n",
    "\n",
    "# Convert pandas datatime to ms timestamp\n",
    "SU_x_timestamp = SU_x.values.astype(np.int64) // 10 ** 9\n",
    "FA_SP_x_timestamp = FA_SP_x.values.astype(np.int64) // 10 ** 9\n",
    "\n",
    "# Reshape and convert to numpy array\n",
    "SU_x_timestamp = np.array(SU_x_timestamp).reshape(-1, 1)\n",
    "FA_SP_x_timestamp = np.array(FA_SP_x_timestamp).reshape(-1, 1)\n",
    "\n",
    "# Fit linear models\n",
    "SU_linear_model = LinearRegression().fit(SU_x_timestamp, SU_y)\n",
    "FA_SP_linear_model = LinearRegression().fit(FA_SP_x_timestamp, FA_SP_y)\n",
    "\n",
    "# Use models to make predictions\n",
    "SU_predictions = SU_linear_model.predict(SU_x_timestamp)\n",
    "FA_SP_predictions = FA_SP_linear_model.predict(FA_SP_x_timestamp)"
   ]
  },
  {
   "cell_type": "code",
   "execution_count": 9,
   "id": "22efd49d-c8c8-4537-ac98-bf49d753024e",
   "metadata": {},
   "outputs": [
    {
     "data": {
      "image/png": "[encoded data removed]",
      "text/plain": [
       "<Figure size 432x288 with 1 Axes>"
      ]
     },
     "metadata": {
      "needs_background": "light"
     },
     "output_type": "display_data"
    }
   ],
   "source": [
    "# Replot census enrollment over time as two series\n",
    "# with linear fits\n",
    "\n",
    "fig = plt.figure()\n",
    "plt.scatter(SU_x, SU_y, c='green', label='Summer')\n",
    "plt.plot(SU_x, SU_predictions, c='green')\n",
    "plt.scatter(FA_SP_x, FA_SP_y, c='black', label='Fall, Spring')\n",
    "plt.plot(FA_SP_x, FA_SP_predictions, c='black')\n",
    "plt.legend(loc='upper left')\n",
    "plt.axis([None, None, 0, 30000])\n",
    "#plt.xticks(rotation = 45)\n",
    "fig.suptitle('Census Enrollment', fontsize=20)\n",
    "plt.xlabel('Date', fontsize=18)\n",
    "plt.ylabel('Enrollment', fontsize=16)\n",
    "plt.show()"
   ]
  },
  {
   "cell_type": "code",
   "execution_count": 10,
   "id": "688e45c5-9bf9-407f-ad37-9071e51c3662",
   "metadata": {},
   "outputs": [
    {
     "name": "stdout",
     "output_type": "stream",
     "text": [
      "SciKit-learn R²: 0.33\n",
      "Mean absolute error: 189\n"
     ]
    }
   ],
   "source": [
    "# Score summer model\n",
    "SU_scikit_R_sqr = SU_linear_model.score(SU_x_timestamp, SU_y)\n",
    "SU_MAE = mean_absolute_error(SU_y, SU_predictions)\n",
    "print('SciKit-learn R\\u00b2: {}'.format(np.round(SU_scikit_R_sqr, 3)))\n",
    "print(f'Mean absolute error: {int(SU_MAE)}')"
   ]
  },
  {
   "cell_type": "code",
   "execution_count": 11,
   "id": "06e7c22d-5b10-4538-b3ba-b835d8f4293d",
   "metadata": {},
   "outputs": [
    {
     "name": "stdout",
     "output_type": "stream",
     "text": [
      "SciKit-learn R²: 0.004\n",
      "Mean absolute error: 1171\n"
     ]
    }
   ],
   "source": [
    "# Score winter/fall model\n",
    "FA_SP_scikit_R_sqr = FA_SP_linear_model.score(FA_SP_x_timestamp, FA_SP_y)\n",
    "FA_SP_MAE = mean_absolute_error(FA_SP_y, FA_SP_predictions)\n",
    "print('SciKit-learn R\\u00b2: {}'.format(np.round(FA_SP_scikit_R_sqr, 3)))\n",
    "print(f'Mean absolute error: {int(FA_SP_MAE)}')"
   ]
  },
  {
   "cell_type": "code",
   "execution_count": 12,
   "id": "4c852b69-1628-488d-8859-fe4c2fdd73ad",
   "metadata": {},
   "outputs": [
    {
     "name": "stdout",
     "output_type": "stream",
     "text": [
      "Aggregate MAE: 843\n"
     ]
    }
   ],
   "source": [
    "# Get aggragate MAE for both models\n",
    "n_SU_points = len(SU_predictions)\n",
    "n_FA_SP_points = len(FA_SP_predictions)\n",
    "n = n_SU_points + n_FA_SP_points\n",
    "\n",
    "MAE = int((SU_MAE*(n_SU_points/n)) + (FA_SP_MAE*(n_FA_SP_points/n)))\n",
    "print(f'Aggregate MAE: {MAE}')"
   ]
  },
  {
   "cell_type": "code",
   "execution_count": 13,
   "id": "1c502d31-d8bd-4cce-9cec-4d61be2cf041",
   "metadata": {},
   "outputs": [
    {
     "data": {
      "image/png": "[encoded data removed]",
      "text/plain": [
       "<Figure size 432x288 with 1 Axes>"
      ]
     },
     "metadata": {
      "needs_background": "light"
     },
     "output_type": "display_data"
    }
   ],
   "source": [
    "fig = plt.figure()\n",
    "plt.scatter(SU_y, SU_predictions, c='green', label='Summer')\n",
    "plt.scatter(FA_SP_y, FA_SP_predictions, c='black', label='Fall, Spring')\n",
    "plt.legend(loc='upper left')\n",
    "plt.axis([None, None, 0, 30000])\n",
    "fig.suptitle('Census Enrolment', fontsize=16)\n",
    "plt.xlabel('Actual enrollment', fontsize=14)\n",
    "plt.ylabel('Predicted enrollment', fontsize=14)\n",
    "plt.show()"
   ]
  },
  {
   "cell_type": "markdown",
   "id": "23d5b02d-691a-4a91-a8aa-ebe206371c5d",
   "metadata": {},
   "source": [
    "Looks OK-ish. Seeme like especialy for fall and spring semesters we are not catching the true variability in enrollment numbers. Also, a major caveat here is we have used all of the data in the fit. Therefore we don't know how well these models will generalize. Let't try again with a train/test split."
   ]
  },
  {
   "cell_type": "code",
   "execution_count": 14,
   "id": "52c20c3d-3851-4485-8d37-cb48c7af98aa",
   "metadata": {},
   "outputs": [],
   "source": [
    "# Train test split fall-spring data\n",
    "\n",
    "# Combine data back into one dataframe\n",
    "FA_SP_data = pd.DataFrame(list(zip(FA_SP_x, FA_SP_y)),columns =['date', 'enrollment'])\n",
    "\n",
    "# Split data randomly into training and testing sets\n",
    "FA_SP_training_data = FA_SP_data.sample(frac=conf.TRAIN_TEST_SPLIT)\n",
    "FA_SP_test_data = FA_SP_data.drop(FA_SP_training_data.index)\n",
    "\n",
    "# Seperate dependent and independent variable\n",
    "FA_SP_training_x = FA_SP_training_data.copy()\n",
    "FA_SP_test_x = FA_SP_test_data.copy()\n",
    "\n",
    "FA_SP_training_y = FA_SP_training_x.pop('enrollment')\n",
    "FA_SP_test_y = FA_SP_test_x.pop('enrollment')"
   ]
  },
  {
   "cell_type": "code",
   "execution_count": 15,
   "id": "24667949-cbf8-41f8-89e9-b10f4ef8babc",
   "metadata": {},
   "outputs": [],
   "source": [
    "# Train test split summer data\n",
    "\n",
    "# Combine data back into one dataframe\n",
    "SU_data = pd.DataFrame(list(zip(SU_x, SU_y)),columns =['date', 'enrollment'])\n",
    "\n",
    "# Split data randomly into training and testing sets\n",
    "SU_training_data = SU_data.sample(frac=conf.TRAIN_TEST_SPLIT)\n",
    "SU_test_data = SU_data.drop(SU_training_data.index)\n",
    "\n",
    "# Separate dependent and independent variable\n",
    "SU_training_x = SU_training_data.copy()\n",
    "SU_test_x = SU_test_data.copy()\n",
    "\n",
    "SU_training_y = SU_training_x.pop('enrollment')\n",
    "SU_test_y = SU_test_x.pop('enrollment')"
   ]
  },
  {
   "cell_type": "code",
   "execution_count": 16,
   "id": "b28a99ea-4f5c-4eba-a257-94c69962c151",
   "metadata": {},
   "outputs": [],
   "source": [
    "# Re-fit linear models to the summer and fall-spring training \n",
    "# data separately, then make predictions for both test sets\n",
    "\n",
    "# Convert pandas datatime to ms timestamp\n",
    "SU_training_x_timestamp = SU_training_x.values.astype(np.int64) // 10 ** 9\n",
    "FA_SP_training_x_timestamp = FA_SP_training_x.values.astype(np.int64) // 10 ** 9\n",
    "\n",
    "SU_test_x_timestamp = SU_test_x.values.astype(np.int64) // 10 ** 9\n",
    "FA_SP_test_x_timestamp = FA_SP_test_x.values.astype(np.int64) // 10 ** 9\n",
    "\n",
    "# Reshape and convert to numpy array\n",
    "SU_training_x_timestamp = np.array(SU_training_x_timestamp).reshape(-1, 1)\n",
    "FA_SP_training_x_timestamp = np.array(FA_SP_training_x_timestamp).reshape(-1, 1)\n",
    "\n",
    "# Fit linear models\n",
    "SU_linear_model = LinearRegression().fit(SU_training_x_timestamp, SU_training_y)\n",
    "FA_SP_linear_model = LinearRegression().fit(FA_SP_training_x_timestamp, FA_SP_training_y)\n",
    "\n",
    "# Use models to make predictions\n",
    "SU_test_predictions = SU_linear_model.predict(SU_test_x_timestamp)\n",
    "FA_SP_test_predictions = FA_SP_linear_model.predict(FA_SP_test_x_timestamp)"
   ]
  },
  {
   "cell_type": "code",
   "execution_count": 17,
   "id": "fd74b9ef-804e-45c2-8210-2741798d02b2",
   "metadata": {},
   "outputs": [
    {
     "data": {
      "image/png": "[encoded data removed]",
      "text/plain": [
       "<Figure size 432x288 with 1 Axes>"
      ]
     },
     "metadata": {
      "needs_background": "light"
     },
     "output_type": "display_data"
    }
   ],
   "source": [
    "# Replot the models against the test data only to get a feel\n",
    "# for how we would do against unseen data\n",
    "import matplotlib.dates as mdates\n",
    "from matplotlib.dates import DateFormatter\n",
    "\n",
    "fig = plt.figure()\n",
    "plt.scatter(SU_test_x['date'], SU_test_y, c='green', label='Summer')\n",
    "plt.plot(SU_test_x['date'], SU_test_predictions, c='green')\n",
    "plt.scatter(FA_SP_test_x['date'], FA_SP_test_y, c='black', label='Fall, Spring')\n",
    "plt.plot(FA_SP_test_x['date'], FA_SP_test_predictions, c='black')\n",
    "plt.legend(loc='upper left')\n",
    "plt.axis([None, None, 0, 30000])\n",
    "#plt.xticks(rotation = 45)\n",
    "fig.suptitle('Census Enrollment, Test Data Only', fontsize=16)\n",
    "plt.xlabel('Date', fontsize=14)\n",
    "plt.ylabel('Enrollment', fontsize=14)\n",
    "\n",
    "dtFmt = mdates.DateFormatter('%Y') # define the formatting\n",
    "plt.gca().xaxis.set_major_formatter(dtFmt)\n",
    "plt.gca().xaxis.set_major_locator(plt.MaxNLocator(4))\n",
    "\n",
    "plt.show()"
   ]
  },
  {
   "cell_type": "code",
   "execution_count": 18,
   "id": "eb3d5aae-0178-4933-b507-6a00a775ed84",
   "metadata": {},
   "outputs": [
    {
     "name": "stdout",
     "output_type": "stream",
     "text": [
      "Mean absolute error: 618\n"
     ]
    }
   ],
   "source": [
    "# Score summer model on test set\n",
    "#SU_scikit_R_sqr = SU_linear_model.score(SU_test_x_timestamp, SU_test_y)\n",
    "SU_MAE = mean_absolute_error(SU_test_y, SU_test_predictions)\n",
    "#print('SciKit-learn R\\u00b2: {}'.format(np.round(SU_scikit_R_sqr, 3)))\n",
    "print(f'Mean absolute error: {int(SU_MAE)}')"
   ]
  },
  {
   "cell_type": "code",
   "execution_count": 19,
   "id": "fafcbf1a-0c6c-4ab4-b200-6589f44803f7",
   "metadata": {},
   "outputs": [
    {
     "name": "stdout",
     "output_type": "stream",
     "text": [
      "Mean absolute error: 443\n"
     ]
    }
   ],
   "source": [
    "# Score fall-spring model on test set\n",
    "#FA_SP_scikit_R_sqr = FA_SP_linear_model.score(FA_SP_test_x_timestamp, FA_SP_test_y)\n",
    "FA_SP_MAE = mean_absolute_error(FA_SP_test_y, FA_SP_test_predictions)\n",
    "#print('SciKit-learn R\\u00b2: {}'.format(np.round(FA_SP_scikit_R_sqr, 3)))\n",
    "print(f'Mean absolute error: {int(FA_SP_MAE)}')"
   ]
  },
  {
   "cell_type": "code",
   "execution_count": 20,
   "id": "edd8d102-c5de-4271-929a-b3928880e233",
   "metadata": {},
   "outputs": [
    {
     "name": "stdout",
     "output_type": "stream",
     "text": [
      "Aggregate MAE: 502\n"
     ]
    }
   ],
   "source": [
    "# Get aggragate MAE for both models\n",
    "n_SU_points = len(SU_test_predictions)\n",
    "n_FA_SP_points = len(FA_SP_test_predictions)\n",
    "n = n_SU_points + n_FA_SP_points\n",
    "\n",
    "MAE = int((SU_MAE*(n_SU_points/n)) + (FA_SP_MAE*(n_FA_SP_points/n)))\n",
    "print(f'Aggregate MAE: {MAE}')"
   ]
  },
  {
   "cell_type": "code",
   "execution_count": 21,
   "id": "08ec2b93-4f82-4996-bee3-433219c85669",
   "metadata": {},
   "outputs": [
    {
     "data": {
      "image/png": "[encoded data removed]",
      "text/plain": [
       "<Figure size 432x288 with 1 Axes>"
      ]
     },
     "metadata": {
      "needs_background": "light"
     },
     "output_type": "display_data"
    }
   ],
   "source": [
    "fig = plt.figure()\n",
    "plt.scatter(SU_test_y, SU_test_predictions, c='green', label='Summer')\n",
    "plt.scatter(FA_SP_test_y, FA_SP_test_predictions, c='black', label='Fall, Spring')\n",
    "plt.legend(loc='upper left')\n",
    "plt.axis([None, None, 0, 30000])\n",
    "fig.suptitle('Comparison of Predicted and Actual Enrollment, Test Data', fontsize=14)\n",
    "plt.xlabel('Actual enrollment', fontsize=14)\n",
    "plt.ylabel('Predicted enrollment', fontsize=14)\n",
    "plt.show()"
   ]
  },
  {
   "cell_type": "markdown",
   "id": "f45c3c69-7e8b-4e3e-9bd3-2cda0d9a77d5",
   "metadata": {},
   "source": [
    "OK, not so great on unseen data. Another problem is that depending on the luck of the test train split we can do better or worse on the test data.\n",
    "\n",
    "Lets see if we can improve, or at least get an idea of how well this generalizes by bootstrapping.\n",
    "\n",
    "To do that, we need to encapsulate the above operations in functions so that we can easily loop over them."
   ]
  },
  {
   "cell_type": "code",
   "execution_count": 22,
   "id": "67abe392-49af-4005-bfe9-253186f1b15d",
   "metadata": {},
   "outputs": [],
   "source": [
    "def train_test_split(x, y, training_data_fraction):\n",
    "    '''Takes x and y lists of data, combines then randomly \n",
    "    samples them. Returns a dict contatining train and test\n",
    "    x and y datasets'''\n",
    "\n",
    "    # Combine data into one dataframe\n",
    "    data = pd.DataFrame(list(zip(x, y)),columns =['date', 'enrollment'])\n",
    "\n",
    "    # Split data randomly into training and testing sets\n",
    "    training_data = data.sample(frac=training_data_fraction)\n",
    "    test_data = data.drop(training_data.index)\n",
    "\n",
    "    # Seperate dependent and independent variable\n",
    "    training_x = training_data.copy()\n",
    "    test_x = test_data.copy()\n",
    "\n",
    "    training_y = training_x.pop('enrollment')\n",
    "    test_y = test_x.pop('enrollment')\n",
    "    \n",
    "    dataset = {}\n",
    "    dataset['training_x'] = training_x\n",
    "    dataset['test_x'] = test_x\n",
    "    dataset['training_y'] = training_y\n",
    "    dataset['test_y'] = test_y\n",
    "    \n",
    "    return dataset\n",
    "\n",
    "def train_linear_model(dataset):\n",
    "    '''Takes dataset, trains simple linear model,\n",
    "    returns trained model'''\n",
    "    \n",
    "    # Extract data from dataset\n",
    "    training_x = dataset['training_x']\n",
    "    test_x = dataset['test_x']\n",
    "    training_y = dataset['training_y']\n",
    "    test_y = dataset['test_y']\n",
    "    \n",
    "    # Convert pandas datatime to ms timestamp\n",
    "    training_x_timestamp = training_x.values.astype(np.int64) // 10 ** 9\n",
    "    test_x_timestamp = test_x.values.astype(np.int64) // 10 ** 9\n",
    "\n",
    "    # Reshape and convert to numpy array\n",
    "    training_x_timestamp = np.array(training_x_timestamp).reshape(-1, 1)\n",
    "    test_x_timestamp = np.array(test_x_timestamp).reshape(-1, 1)\n",
    "\n",
    "    # Fit linear model\n",
    "    linear_model = LinearRegression().fit(training_x_timestamp, training_y)\n",
    "\n",
    "    # Use models to make predictions\n",
    "    test_predictions = linear_model.predict(test_x_timestamp)\n",
    "    \n",
    "    return linear_model, test_predictions"
   ]
  },
  {
   "cell_type": "code",
   "execution_count": 23,
   "id": "0fe4720b-20b7-4ff3-bfa5-ed211e1d0691",
   "metadata": {},
   "outputs": [
    {
     "name": "stdout",
     "output_type": "stream",
     "text": [
      "Training model 99\r"
     ]
    }
   ],
   "source": [
    "results = {}\n",
    "results['test_scores'] = []\n",
    "results['SU_models'] = []\n",
    "results['FA_SP_models'] = []\n",
    "results['test_labels'] = []\n",
    "results['test_features'] = []\n",
    "results['test_predictions'] = []\n",
    "\n",
    "# Outer training loop\n",
    "for i in range(conf.N_MODELS):\n",
    "    print(f'Training model {i}', end='\\r')\n",
    "    \n",
    "    SU_dataset = train_test_split(SU_x, SU_y, conf.TRAIN_TEST_SPLIT)\n",
    "    FA_SP_dataset = train_test_split(FA_SP_x, FA_SP_y, conf.TRAIN_TEST_SPLIT)\n",
    "    \n",
    "    SU_model, SU_test_predictions = train_linear_model(SU_dataset)\n",
    "    FA_SP_model, FA_SP_test_predictions = train_linear_model(FA_SP_dataset)\n",
    "    \n",
    "    labels = list(SU_dataset['test_y']) + list(FA_SP_dataset['test_y'])\n",
    "    predicted_labels = list(SU_test_predictions) + list(FA_SP_test_predictions)\n",
    "    MAE = mean_absolute_error(labels, predicted_labels)\n",
    "    \n",
    "    results['test_scores'].append(MAE)\n",
    "    results['SU_models'].append(SU_model)\n",
    "    results['FA_SP_models'].append(FA_SP_model)\n",
    "    results['test_features'].extend(SU_dataset['test_x'])\n",
    "    results['test_features'].extend(FA_SP_dataset['test_x'])\n",
    "    results['test_labels'].extend(SU_dataset['test_y'])\n",
    "    results['test_labels'].extend(FA_SP_dataset['test_y'])\n",
    "    results['test_predictions'].extend(SU_test_predictions)\n",
    "    results['test_predictions'].extend(FA_SP_test_predictions)"
   ]
  },
  {
   "cell_type": "code",
   "execution_count": 24,
   "id": "94a6c0a9-cc7b-47fa-aa13-662331a626fc",
   "metadata": {},
   "outputs": [
    {
     "data": {
      "image/png": "[encoded data removed]",
      "text/plain": [
       "<Figure size 360x360 with 1 Axes>"
      ]
     },
     "metadata": {
      "needs_background": "light"
     },
     "output_type": "display_data"
    }
   ],
   "source": [
    "# Plot distribution of MAE scores from each model\n",
    "sns.displot(results['test_scores'], kind=\"kde\")\n",
    "plt.xlabel('Mean absolute error')\n",
    "plt.title('MAE Distribution, Test Data', fontsize=14)\n",
    "\n",
    "plt.show()"
   ]
  },
  {
   "cell_type": "markdown",
   "id": "5bc2ba62-5387-404b-b66e-93cc997788bc",
   "metadata": {},
   "source": [
    "Looks like most models score arround 1000 MAE on the test set. Now, lets use the ensemble to make some predictions."
   ]
  },
  {
   "cell_type": "code",
   "execution_count": 25,
   "id": "dcc7c458-6bab-48ce-99a6-a37cca116678",
   "metadata": {},
   "outputs": [],
   "source": [
    "# Empty list to hold summer predictions\n",
    "SU_predictions = []\n",
    "\n",
    "SU_x_timestamp = SU_x.values.astype(np.int64) // 10 ** 9\n",
    "SU_x_timestamp = np.array(SU_x_timestamp).reshape(-1, 1)\n",
    "\n",
    "for model in results['SU_models']:\n",
    "    predicted_enrollment = model.predict(SU_x_timestamp)\n",
    "    SU_predictions.append(predicted_enrollment)\n",
    "\n",
    "# Average the predictions from each model\n",
    "SU_predicted_enrollment = np.mean(np.array(SU_predictions), axis=0)"
   ]
  },
  {
   "cell_type": "code",
   "execution_count": 26,
   "id": "091cf888-f587-40e5-9d15-b75eb72d6917",
   "metadata": {},
   "outputs": [],
   "source": [
    "# Empty list to hold fall-spring predictions\n",
    "FA_SP_predictions = []\n",
    "\n",
    "FA_SP_x_timestamp = FA_SP_x.values.astype(np.int64) // 10 ** 9\n",
    "FA_SP_x_timestamp = np.array(FA_SP_x_timestamp).reshape(-1, 1)\n",
    "\n",
    "for model in results['FA_SP_models']:\n",
    "    predicted_enrollment = model.predict(FA_SP_x_timestamp)\n",
    "    FA_SP_predictions.append(predicted_enrollment)\n",
    "\n",
    "# Average the predictions from each model\n",
    "FA_SP_predicted_enrollment = np.mean(np.array(FA_SP_predictions), axis=0)"
   ]
  },
  {
   "cell_type": "code",
   "execution_count": 27,
   "id": "3eb07d18-1d21-497f-9689-705f153e0af7",
   "metadata": {},
   "outputs": [],
   "source": [
    "ensamble_predictions = list(SU_predicted_enrollment) + list(FA_SP_predicted_enrollment)\n",
    "labels = list(SU_y) + list(FA_SP_y)\n",
    "\n",
    "results['ensamble_predictions'] = ensamble_predictions\n",
    "results['labels'] = labels"
   ]
  },
  {
   "cell_type": "code",
   "execution_count": 28,
   "id": "4158c0df-8542-4de9-8248-a46d95de9cb8",
   "metadata": {},
   "outputs": [
    {
     "data": {
      "image/png": "[encoded data removed]",
      "text/plain": [
       "<Figure size 432x288 with 1 Axes>"
      ]
     },
     "metadata": {
      "needs_background": "light"
     },
     "output_type": "display_data"
    }
   ],
   "source": [
    "# Replot the models against the test data only to get a feel\n",
    "# for how we would do against unseen data\n",
    "import matplotlib.dates as mdates\n",
    "from matplotlib.dates import DateFormatter\n",
    "\n",
    "fig = plt.figure()\n",
    "plt.scatter(SU_x, SU_y, c='green', label='Summer')\n",
    "plt.plot(SU_x, SU_predicted_enrollment, c='green')\n",
    "plt.scatter(FA_SP_x, FA_SP_y, c='black', label='Fall, Spring')\n",
    "plt.plot(FA_SP_x, FA_SP_predicted_enrollment, c='black')\n",
    "plt.legend(loc='upper left')\n",
    "plt.axis([None, None, 0, 30000])\n",
    "#plt.xticks(rotation = 45)\n",
    "fig.suptitle('Census Enrollment, Test Data Only', fontsize=16)\n",
    "plt.xlabel('Date', fontsize=14)\n",
    "plt.ylabel('Enrollment', fontsize=14)\n",
    "\n",
    "dtFmt = mdates.DateFormatter('%Y') # define the formatting\n",
    "plt.gca().xaxis.set_major_formatter(dtFmt)\n",
    "plt.gca().xaxis.set_major_locator(plt.MaxNLocator(4))\n",
    "\n",
    "plt.show()"
   ]
  },
  {
   "cell_type": "code",
   "execution_count": 29,
   "id": "e4111622-1889-4052-a586-725a74abfc86",
   "metadata": {},
   "outputs": [
    {
     "data": {
      "image/png": "[encoded data removed]",
      "text/plain": [
       "<Figure size 432x288 with 1 Axes>"
      ]
     },
     "metadata": {
      "needs_background": "light"
     },
     "output_type": "display_data"
    }
   ],
   "source": [
    "fig = plt.figure()\n",
    "plt.scatter(SU_y, SU_predicted_enrollment, c='green', label='Summer')\n",
    "plt.scatter(FA_SP_y, FA_SP_predicted_enrollment, c='black', label='Fall, Spring')\n",
    "plt.legend(loc='upper left')\n",
    "plt.axis([None, None, 0, 30000])\n",
    "fig.suptitle('Comparison of Predicted and Actual Enrollment, Ensemble Model', fontsize=14)\n",
    "plt.xlabel('Actual enrollment', fontsize=14)\n",
    "plt.ylabel('Predicted enrollment', fontsize=14)\n",
    "plt.show()"
   ]
  },
  {
   "cell_type": "code",
   "execution_count": 30,
   "id": "58ff2dec-6660-46cf-b4c9-b3a99fe8e707",
   "metadata": {},
   "outputs": [
    {
     "name": "stdout",
     "output_type": "stream",
     "text": [
      "Ensamble MAE: 834\n"
     ]
    }
   ],
   "source": [
    "labels = list(SU_y) + list(FA_SP_y)\n",
    "predicted_labels = list(SU_predicted_enrollment) + list(FA_SP_predicted_enrollment)\n",
    "MAE = mean_absolute_error(labels, predicted_labels)\n",
    "\n",
    "print(f'Ensamble MAE: {int(MAE)}')"
   ]
  },
  {
   "cell_type": "markdown",
   "id": "4135fa5b-1b25-44c4-b55b-3cb5d6b934af",
   "metadata": {},
   "source": [
    "Last thing before we move on - lets set up a confidence interval around an example prediction."
   ]
  },
  {
   "cell_type": "code",
   "execution_count": 31,
   "id": "00cbd5b8-841c-4cdb-b278-a64634a5eb95",
   "metadata": {},
   "outputs": [],
   "source": [
    "# Pick one point to predict\n",
    "target = list(FA_SP_x_timestamp)[6]"
   ]
  },
  {
   "cell_type": "code",
   "execution_count": 32,
   "id": "0b08bde7-d154-423d-861c-295840021528",
   "metadata": {},
   "outputs": [],
   "source": [
    "# Empty list to hold fall-spring predictions\n",
    "FA_SP_predictions = []\n",
    "\n",
    "for model in results['FA_SP_models']:\n",
    "    predicted_enrollment = model.predict([target])\n",
    "    FA_SP_predictions.extend(predicted_enrollment)"
   ]
  },
  {
   "cell_type": "code",
   "execution_count": 33,
   "id": "f0415a38-a0cb-4be8-99be-92b1746ddcaa",
   "metadata": {},
   "outputs": [
    {
     "data": {
      "image/png": "[encoded data removed]",
      "text/plain": [
       "<Figure size 360x360 with 1 Axes>"
      ]
     },
     "metadata": {
      "needs_background": "light"
     },
     "output_type": "display_data"
    }
   ],
   "source": [
    "# Plot distribution of predictions from each model\n",
    "sns.displot(FA_SP_predictions, kind=\"kde\")\n",
    "plt.xlabel('Enrollment')\n",
    "\n",
    "plt.show()"
   ]
  },
  {
   "cell_type": "code",
   "execution_count": 34,
   "id": "214b9ede-a0d7-45c6-a2b3-255238b8ed21",
   "metadata": {},
   "outputs": [
    {
     "name": "stdout",
     "output_type": "stream",
     "text": [
      "Mean: 23726, 95% CI: 23660-23793\n",
      "True value: 23752\n"
     ]
    }
   ],
   "source": [
    "import scipy.stats as st\n",
    "\n",
    "mean = np.mean(FA_SP_predictions)\n",
    "low, high = st.norm.interval(alpha=0.95, loc=np.mean(FA_SP_predictions), scale=st.sem(FA_SP_predictions))\n",
    "\n",
    "print(f'Mean: {int(mean)}, 95% CI: {int(low)}-{int(high)}')\n",
    "print(f'True value: {int(list(FA_SP_y)[6])}')"
   ]
  },
  {
   "cell_type": "code",
   "execution_count": 35,
   "id": "67ee12fe-8c7a-4e46-a56f-9bc1aab667bd",
   "metadata": {},
   "outputs": [],
   "source": [
    "# Save results\n",
    "pkl_filename = f'{conf.RESULTS_PATH}{conf.SIMPLE_LINEAR_MODEL_RESULTS_FILE}'\n",
    "\n",
    "with open(pkl_filename, 'wb') as file:\n",
    "    pickle.dump(results, file)"
   ]
  },
  {
   "cell_type": "code",
   "execution_count": null,
   "id": "904714e3",
   "metadata": {},
   "outputs": [],
   "source": []
  }
 ],
 "metadata": {
  "kernelspec": {
   "display_name": "Python 3",
   "language": "python",
   "name": "python3"
  },
  "language_info": {
   "codemirror_mode": {
    "name": "ipython",
    "version": 3
   },
   "file_extension": ".py",
   "mimetype": "text/x-python",
   "name": "python",
   "nbconvert_exporter": "python",
   "pygments_lexer": "ipython3",
   "version": "3.8.5"
  },
  "vscode": {
   "interpreter": {
    "hash": "916dbcbb3f70747c44a77c7bcd40155683ae19c65e1c03b4aa3499c5328201f1"
   }
  }
 },
 "nbformat": 4,
 "nbformat_minor": 5
}
