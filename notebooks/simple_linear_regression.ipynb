{
 "cells": [
  {
   "cell_type": "code",
   "execution_count": 59,
   "id": "13c7d830-fd04-40e8-8809-e6b24eef29ea",
   "metadata": {},
   "outputs": [],
   "source": [
    "import sys\n",
    "import pandas as pd\n",
    "import matplotlib.pyplot as plt\n",
    "\n",
    "# Add parent directory to path to allow import of config.py\n",
    "sys.path.append(\"..\")\n",
    "\n",
    "import config as conf"
   ]
  },
  {
   "cell_type": "markdown",
   "id": "18859894-4bcd-437d-8b43-d51d6e62ddc9",
   "metadata": {},
   "source": [
    "For our baseline or 'naive' model, we will use a simple linear regression model on enrolment as a function of time. This model is not expected to perform well, but it will give us a baseline for the simplest possible model to compare other models to."
   ]
  },
  {
   "cell_type": "code",
   "execution_count": 60,
   "id": "6aaedf83-1a60-4c4a-b5c5-174ed6d9a6af",
   "metadata": {},
   "outputs": [
    {
     "name": "stdout",
     "output_type": "stream",
     "text": [
      "<class 'pandas.core.frame.DataFrame'>\n",
      "RangeIndex: 14 entries, 0 to 13\n",
      "Data columns (total 24 columns):\n",
      " #   Column                           Non-Null Count  Dtype  \n",
      "---  ------                           --------------  -----  \n",
      " 0   Census Enrollment                14 non-null     float64\n",
      " 1   Census Fill Rate                 14 non-null     float64\n",
      " 2   Count of Migrated Data           14 non-null     float64\n",
      " 3   Current Enrollment               14 non-null     float64\n",
      " 4   Current Fill Rate                14 non-null     float64\n",
      " 5   Enrollment Capacity              14 non-null     float64\n",
      " 6   Ftef                             14 non-null     float64\n",
      " 7   Ftes                             14 non-null     float64\n",
      " 8   Ftes/Ftef                        14 non-null     float64\n",
      " 9   Number Retained                  14 non-null     float64\n",
      " 10  Number Successful                14 non-null     float64\n",
      " 11  Retention Rate                   14 non-null     float64\n",
      " 12  Sec. Count                       14 non-null     float64\n",
      " 13  Success Rate                     14 non-null     float64\n",
      " 14  Wsch/Ftef                        14 non-null     float64\n",
      " 15  Next Semester Census Enrollment  14 non-null     float64\n",
      " 16  year_2016                        14 non-null     int64  \n",
      " 17  year_2017                        14 non-null     int64  \n",
      " 18  year_2018                        14 non-null     int64  \n",
      " 19  year_2019                        14 non-null     int64  \n",
      " 20  year_2020                        14 non-null     int64  \n",
      " 21  semester_FA                      14 non-null     int64  \n",
      " 22  semester_SP                      14 non-null     int64  \n",
      " 23  semester_SU                      14 non-null     int64  \n",
      "dtypes: float64(16), int64(8)\n",
      "memory usage: 2.8 KB\n"
     ]
    }
   ],
   "source": [
    "data = pd.read_csv(f'{conf.DATA_PATH}{conf.FORMATTED_DATAFILE}')\n",
    "data.info()"
   ]
  },
  {
   "cell_type": "markdown",
   "id": "291c3138-0b95-4384-89c6-d53db7a3bdd0",
   "metadata": {},
   "source": [
    "To do a simple x, y linear fit, we first need to do a little data formatting. The goal is to make a timeseries where the date is x and enrollment is y."
   ]
  },
  {
   "cell_type": "code",
   "execution_count": 61,
   "id": "9046eaa5-591f-4ba1-9886-c4677a7ad505",
   "metadata": {},
   "outputs": [],
   "source": [
    "def decode_year(row):\n",
    "    for col in years.columns:\n",
    "        if row[col]==1:\n",
    "            col = col.replace(\"year_\", \"\")\n",
    "            return col\n",
    "        \n",
    "def decode_semester(row):\n",
    "    for col in semesters.columns:\n",
    "        if row[col]==1:\n",
    "            col = col.replace(\"semester_\", \"\")\n",
    "            return col\n",
    "        \n",
    "def decode_semester_strings(semesters):\n",
    "    census_months = []\n",
    "    census_days = []\n",
    "\n",
    "    for semester in list(semesters):\n",
    "\n",
    "        if semester == 'FA':\n",
    "            census_months.append(9)\n",
    "            census_days.append(8)\n",
    "\n",
    "        elif semester == 'SP':\n",
    "            census_months.append(2)\n",
    "            census_days.append(8)\n",
    "\n",
    "        elif semester == 'SU':\n",
    "            census_months.append(5)\n",
    "            census_days.append(14)\n",
    "\n",
    "    return census_months, census_days\n",
    "\n",
    "def make_xy_data(data):\n",
    "    years = data.filter(regex=(\"year.*\"))\n",
    "    semesters = data.filter(regex=(\"semester.*\"))\n",
    "\n",
    "    decoded_years = years.apply(decode_year, axis=1)\n",
    "    decoded_semesters = semesters.apply(decode_semester, axis=1)\n",
    "\n",
    "    census_months, census_days = decode_semester_strings(decoded_semesters)\n",
    "\n",
    "    x = pd.to_datetime(dict(year=decoded_years, month=census_months, day=census_days))\n",
    "    y = data['Census Enrollment']\n",
    "    \n",
    "    return x, y"
   ]
  },
  {
   "cell_type": "code",
   "execution_count": 83,
   "id": "495415e3-1f48-4f9d-a268-ac9b87e420e1",
   "metadata": {},
   "outputs": [],
   "source": [
    "x, y = make_xy_data(data)"
   ]
  },
  {
   "cell_type": "code",
   "execution_count": 91,
   "id": "0c648ba9-c2af-459d-9d6f-aa4dff794961",
   "metadata": {},
   "outputs": [
    {
     "data": {
      "image/png": "[encoded data removed]",
      "text/plain": [
       "<Figure size 432x288 with 1 Axes>"
      ]
     },
     "metadata": {
      "needs_background": "light"
     },
     "output_type": "display_data"
    }
   ],
   "source": [
    "fig = plt.figure()\n",
    "plt.scatter(x, y, color='black')\n",
    "plt.axis([None, None, 0, 30000])\n",
    "plt.xticks(rotation = 45)\n",
    "fig.suptitle('Census Enrollment', fontsize=20)\n",
    "plt.xlabel('Date', fontsize=18)\n",
    "plt.ylabel('Enrollment', fontsize=16)\n",
    "plt.show()"
   ]
  },
  {
   "cell_type": "markdown",
   "id": "5449c205-56cc-4970-8b7c-2621fccbd4da",
   "metadata": {},
   "source": [
    "The orignal plan was to fit this data with one line and call that the minimal model. But looking at the data, I think that is going a bit to far, in terms of oversimplifying on purpous to make the other models look good. I think that what we have to do is use two linear fits, one to summer semesters and the other to fall and spring."
   ]
  },
  {
   "cell_type": "code",
   "execution_count": 85,
   "id": "c31075f0-a61f-4308-9ab8-fe0c87f36275",
   "metadata": {},
   "outputs": [],
   "source": [
    "SU_data = data[data['semester_SU'] == 1]\n",
    "SU_x, SU_y = make_xy_data(SU_data)\n",
    "\n",
    "FA_SP_data = data[data['semester_SU'] == 0 ]\n",
    "FA_SP_x, FA_SP_y = make_xy_data(FA_SP_data)"
   ]
  },
  {
   "cell_type": "code",
   "execution_count": 93,
   "id": "705e6fb3-0f09-4c07-82fc-e9239485d333",
   "metadata": {},
   "outputs": [
    {
     "data": {
      "image/png": "[encoded data removed]",
      "text/plain": [
       "<Figure size 432x288 with 1 Axes>"
      ]
     },
     "metadata": {
      "needs_background": "light"
     },
     "output_type": "display_data"
    }
   ],
   "source": [
    "fig = plt.figure()\n",
    "plt.scatter(SU_x, SU_y, c='green', label='Summer')\n",
    "plt.scatter(FA_SP_x, FA_SP_y, c='black', label='Fall, Spring')\n",
    "plt.legend(loc='upper left')\n",
    "plt.axis([None, None, 0, 30000])\n",
    "plt.xticks(rotation = 45)\n",
    "fig.suptitle('Census Enrollment', fontsize=20)\n",
    "plt.xlabel('Date', fontsize=18)\n",
    "plt.ylabel('Enrollment', fontsize=16)\n",
    "plt.show()"
   ]
  },
  {
   "cell_type": "code",
   "execution_count": null,
   "id": "8ea046e6-1e36-4d1b-b925-3048cd7ee872",
   "metadata": {},
   "outputs": [],
   "source": []
  }
 ],
 "metadata": {
  "kernelspec": {
   "display_name": "Python 3",
   "language": "python",
   "name": "python3"
  },
  "language_info": {
   "codemirror_mode": {
    "name": "ipython",
    "version": 3
   },
   "file_extension": ".py",
   "mimetype": "text/x-python",
   "name": "python",
   "nbconvert_exporter": "python",
   "pygments_lexer": "ipython3",
   "version": "3.8.5"
  }
 },
 "nbformat": 4,
 "nbformat_minor": 5
}
