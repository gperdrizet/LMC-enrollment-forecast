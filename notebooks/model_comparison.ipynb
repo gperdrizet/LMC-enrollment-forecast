{
 "cells": [
  {
   "cell_type": "code",
   "execution_count": null,
   "id": "50029d78-f4a6-49e5-ac60-ef6886b68ae7",
   "metadata": {},
   "outputs": [],
   "source": []
  }
 ],
 "metadata": {
  "kernelspec": {
   "display_name": "Python 3",
   "language": "python",
   "name": "python3"
  },
  "language_info": {
   "codemirror_mode": {
    "name": "ipython",
    "version": 3
   },
   "file_extension": ".py",
   "mimetype": "text/x-python",
   "name": "python",
   "nbconvert_exporter": "python",
   "pygments_lexer": "ipython3",
   "version": "3.8.5"
  }
 },
 "nbformat": 4,
 "nbformat_minor": 5
}
